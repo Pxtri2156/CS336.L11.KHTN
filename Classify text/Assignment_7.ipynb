{
  "nbformat": 4,
  "nbformat_minor": 0,
  "metadata": {
    "colab": {
      "name": "Assignment 7.ipynb",
      "private_outputs": true,
      "provenance": [],
      "collapsed_sections": []
    },
    "kernelspec": {
      "name": "python3",
      "display_name": "Python 3"
    }
  },
  "cells": [
    {
      "cell_type": "markdown",
      "metadata": {
        "id": "vcX0J_CQxKGS"
      },
      "source": [
        "# **Import package**"
      ]
    },
    {
      "cell_type": "code",
      "metadata": {
        "id": "ToDGCR1vulTe"
      },
      "source": [
        "from sklearn.datasets import fetch_20newsgroups\n",
        "from sklearn.model_selection import train_test_split\n",
        "import numpy as np\n",
        "from sklearn.feature_extraction.text import TfidfVectorizer\n",
        "from sklearn.naive_bayes import MultinomialNB\n",
        "from sklearn.neighbors import KNeighborsClassifier\n",
        "from sklearn import metrics\n",
        "from matplotlib.pyplot import *"
      ],
      "execution_count": null,
      "outputs": []
    },
    {
      "cell_type": "markdown",
      "metadata": {
        "id": "Hz2d6fPHxQsN"
      },
      "source": [
        "# **Load data newsgroups from sklearn**"
      ]
    },
    {
      "cell_type": "code",
      "metadata": {
        "id": "GWn87reaujtW"
      },
      "source": [
        "newsgroups = fetch_20newsgroups(subset='all', remove=('headers', 'footers', 'quotes'))"
      ],
      "execution_count": null,
      "outputs": []
    },
    {
      "cell_type": "code",
      "metadata": {
        "id": "BH5pisuwvbBO"
      },
      "source": [
        "len(newsgroups.data)"
      ],
      "execution_count": null,
      "outputs": []
    },
    {
      "cell_type": "markdown",
      "metadata": {
        "id": "cLtbHM1xx9ZA"
      },
      "source": [
        "## **Check info data**"
      ]
    },
    {
      "cell_type": "code",
      "metadata": {
        "id": "GH0zBjYIybDX"
      },
      "source": [
        "newsgroups.target_names"
      ],
      "execution_count": null,
      "outputs": []
    },
    {
      "cell_type": "code",
      "metadata": {
        "id": "nbHJvNmFwh6m"
      },
      "source": [
        "newsgroups.data[0]"
      ],
      "execution_count": null,
      "outputs": []
    },
    {
      "cell_type": "code",
      "metadata": {
        "id": "EhvEtjsDxCcE"
      },
      "source": [
        "newsgroups.target[0]"
      ],
      "execution_count": null,
      "outputs": []
    },
    {
      "cell_type": "code",
      "metadata": {
        "id": "K6q5LWcPwm-I"
      },
      "source": [
        "data = newsgroups.data\n",
        "label = newsgroups.target"
      ],
      "execution_count": null,
      "outputs": []
    },
    {
      "cell_type": "code",
      "metadata": {
        "id": "wXumlYqywqKT"
      },
      "source": [
        "print(type(newsgroups.data))\n",
        "print(type(newsgroups.target))"
      ],
      "execution_count": null,
      "outputs": []
    },
    {
      "cell_type": "markdown",
      "metadata": {
        "id": "xX61NiSyx3KS"
      },
      "source": [
        "## **Split data**"
      ]
    },
    {
      "cell_type": "code",
      "metadata": {
        "id": "AERA8reIuo0X"
      },
      "source": [
        "train_data, test_data, train_label, test_label = train_test_split(data, label, test_size = 0.275, shuffle = True)"
      ],
      "execution_count": null,
      "outputs": []
    },
    {
      "cell_type": "code",
      "metadata": {
        "id": "f_ILZwUTxfCE"
      },
      "source": [
        "print(\"data\", train_data[0])\n",
        "print(\"Label \", train_label[0])"
      ],
      "execution_count": null,
      "outputs": []
    },
    {
      "cell_type": "markdown",
      "metadata": {
        "id": "kYbSxvj98HtV"
      },
      "source": [
        "# **Build dictionary and TF-IDF vector**"
      ]
    },
    {
      "cell_type": "code",
      "metadata": {
        "id": "-Kda-wGf8IU_"
      },
      "source": [
        "vectorizer = TfidfVectorizer()\n",
        "train_TF_IDF = vectorizer.fit_transform(train_data)\n",
        "test_TF_IDF = vectorizer.transform(test_data)"
      ],
      "execution_count": null,
      "outputs": []
    },
    {
      "cell_type": "code",
      "metadata": {
        "id": "_z3Y7IBJzEMo"
      },
      "source": [
        "print(train_TF_IDF.shape)\n",
        "print(test_TF_IDF.shape)"
      ],
      "execution_count": null,
      "outputs": []
    },
    {
      "cell_type": "code",
      "metadata": {
        "id": "pfgNsy3a9gJu"
      },
      "source": [
        "print(train_TF_IDF)"
      ],
      "execution_count": null,
      "outputs": []
    },
    {
      "cell_type": "code",
      "metadata": {
        "id": "d153I9rY21sP"
      },
      "source": [
        "print(train_TF_IDF.shape)\n",
        "print(test_TF_IDF.shape)"
      ],
      "execution_count": null,
      "outputs": []
    },
    {
      "cell_type": "markdown",
      "metadata": {
        "id": "E_E2Hvj-9ERV"
      },
      "source": [
        "# **Training**"
      ]
    },
    {
      "cell_type": "markdown",
      "metadata": {
        "id": "dIdvTXnI3WWj"
      },
      "source": [
        "## **Naive Bayes**"
      ]
    },
    {
      "cell_type": "code",
      "metadata": {
        "id": "AqX_0TtJ10-q"
      },
      "source": [
        "NB = MultinomialNB(alpha=.01)\n",
        "NB.fit(train_TF_IDF, train_label)\n",
        "pred = NB.predict(test_TF_IDF)\n",
        "f1_score = metrics.f1_score(test_label, pred, average='macro')\n",
        "print(f1_score)"
      ],
      "execution_count": null,
      "outputs": []
    },
    {
      "cell_type": "markdown",
      "metadata": {
        "id": "m7D2BBSH3bvV"
      },
      "source": [
        "## **K-nearest neighors**"
      ]
    },
    {
      "cell_type": "code",
      "metadata": {
        "id": "-wly6ehb3UGa"
      },
      "source": [
        "neigh = KNeighborsClassifier(n_neighbors=10)\n",
        "neigh.fit(train_TF_IDF, train_label)\n",
        "pred = neigh.predict(test_TF_IDF)\n",
        "f1_score = metrics.f1_score(test_label, pred, average='macro')\n",
        "print(f1_score)"
      ],
      "execution_count": null,
      "outputs": []
    },
    {
      "cell_type": "markdown",
      "metadata": {
        "id": "qB6X0Var4pKq"
      },
      "source": [
        "## **Run with size train data difference**"
      ]
    },
    {
      "cell_type": "code",
      "metadata": {
        "id": "mQGjqwsBy5Hj"
      },
      "source": [
        "result = {\n",
        "    \"KNN\": [], # K-Nearest Neighors\n",
        "    \"NB\": [],  # Naive Bayes\n",
        "}\n",
        "sizes = [1000, 3000, 5000, 7000, 9000, 11000, 13663]\n",
        "\n",
        "# Define classify model\n",
        "neigh = KNeighborsClassifier(n_neighbors=10)\n",
        "NB = MultinomialNB(alpha=.01)\n",
        "\n",
        "for size in sizes:\n",
        "  # Extract TF-IDF\n",
        "  train_TF_IDF_cr = train_TF_IDF[:size,:]\n",
        "  train_label_cr = train_label[: size]\n",
        "  \n",
        "  # Train with KNN\n",
        "  print('[INFO] Cls: KNN, size_train: {}, K = 10 '.format(size))\n",
        "  neigh.fit(train_TF_IDF_cr, train_label_cr)\n",
        "  pred_KNN = neigh.predict(test_TF_IDF)\n",
        "  f1_score_KNN = metrics.f1_score(test_label, pred_KNN, average='macro')\n",
        "  print('[INFO] Cls: KNN, size_train: {}, K = 10, f1-score: {}'.format(size, f1_score_KNN))\n",
        "  result['KNN'].append(f1_score_KNN)\n",
        "\n",
        "  # Train with NB \n",
        "  \n",
        "  print('[INFO] Cls: NB, size_train: {}'.format(size))\n",
        "  NB.fit(train_TF_IDF_cr, train_label_cr)\n",
        "  pred_NB = NB.predict(test_TF_IDF)\n",
        "  f1_score_NB = metrics.f1_score(test_label, pred_NB, average='macro')\n",
        "  print('[INFO] Cls: NB, size_train: {}, f1-score: {}'.format(size, f1_score_NB))\n",
        "  result['NB'].append(f1_score_NB)\n",
        "\n",
        "\n"
      ],
      "execution_count": null,
      "outputs": []
    },
    {
      "cell_type": "markdown",
      "metadata": {
        "id": "rqN7NPrK9iAl"
      },
      "source": [
        "# **Draw curve**"
      ]
    },
    {
      "cell_type": "code",
      "metadata": {
        "id": "FieQu8XQ9lgL"
      },
      "source": [
        "print(result)"
      ],
      "execution_count": null,
      "outputs": []
    },
    {
      "cell_type": "code",
      "metadata": {
        "id": "SlNVW9RLDmSQ"
      },
      "source": [
        "f1_score_KNNs = result[\"KNN\"]\n",
        "f1_score_NBs = result[\"NB\"]\n",
        "\n",
        "plot(sizes, f1_score_KNNs, 'r-')\n",
        "plot(sizes, f1_score_NBs, 'g-')\n",
        "xlabel('Size train')\n",
        "ylabel('f1-score')\n",
        "legend(['KNN', 'NB'])\n",
        "title('Compare f1-score KNN and NB')\n",
        "show()"
      ],
      "execution_count": null,
      "outputs": []
    }
  ]
}