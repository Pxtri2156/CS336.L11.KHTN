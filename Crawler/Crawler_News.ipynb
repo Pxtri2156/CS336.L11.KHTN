{
 "cells": [
  {
   "cell_type": "markdown",
   "metadata": {},
   "source": [
    "# **Đề bài**\n",
    "Viết crawler lấy dữ liệu bao gồm:\n",
    "+ Title của bài báo\n",
    "+ Ngày tháng các bài báo được public\n",
    "+ Link các bài báo\n",
    "\n",
    "Nguồn: báo tuổi trẻ, dân trí, vnexpress  \n",
    "Phạm vi thời gian: Trong tháng 9"
   ]
  },
  {
   "cell_type": "code",
   "execution_count": null,
   "metadata": {},
   "outputs": [],
   "source": []
  }
 ],
 "metadata": {
  "kernelspec": {
   "display_name": "Python 3",
   "language": "python",
   "name": "python3"
  },
  "language_info": {
   "codemirror_mode": {
    "name": "ipython",
    "version": 3
   },
   "file_extension": ".py",
   "mimetype": "text/x-python",
   "name": "python",
   "nbconvert_exporter": "python",
   "pygments_lexer": "ipython3",
   "version": "3.7.3"
  }
 },
 "nbformat": 4,
 "nbformat_minor": 4
}
